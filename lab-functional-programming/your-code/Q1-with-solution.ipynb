{
 "cells": [
  {
   "cell_type": "markdown",
   "metadata": {},
   "source": [
    "In the cell below, create a Python function that wraps your previous solution for the Bag of Words lab.\n",
    "\n",
    "Requirements:\n",
    "\n",
    "1. Your function should accept the following parameters:\n",
    "    * `docs` [REQUIRED] - array of document paths.\n",
    "    * `stop_words` [OPTIONAL] - array of stop words. The default value is an empty array.\n",
    "\n",
    "1. Your function should return a Python object that contains the following:\n",
    "    * `bag_of_words` - array of strings of normalized unique words in the corpus.\n",
    "    * `term_freq` - array of the term-frequency vectors."
   ]
  },
  {
   "cell_type": "code",
   "execution_count": 1,
   "metadata": {
    "collapsed": true
   },
   "outputs": [],
   "source": [
    "# Import required libraries\n",
    "from string import punctuation\n",
    "import os\n",
    "\n",
    "# Define function\n",
    "def get_bow_from_docs(docs, stop_words=[]):\n",
    "    \n",
    "    # In the function, first define the variables you will use such as `corpus`, `bag_of_words`, and `term_freq`.\n",
    "    \n",
    "    corpus = []\n",
    "    bag_of_words = []\n",
    "    term_freq = []\n",
    "    \n",
    "    \n",
    "    \"\"\"\n",
    "    Loop `docs` and read the content of each doc into a string in `corpus`.\n",
    "    Remember to convert the doc content to lowercases and remove punctuation.\n",
    "    \"\"\"\n",
    "    for doc in docs:\n",
    "        f = open(doc, 'r')\n",
    "        x = f.read()\n",
    "        x = ''.join(i for i in x if i not in punctuation)\n",
    "        corpus.append(x.lower())\n",
    "        f.close()\n",
    "       \n",
    "    \"\"\"\n",
    "    Loop `corpus`. Append the terms in each doc into the `bag_of_words` array. The terms in `bag_of_words` \n",
    "    should be unique which means before adding each term you need to check if it's already added to the array.\n",
    "    In addition, check if each term is in the `stop_words` array. Only append the term to `bag_of_words`\n",
    "    if it is not a stop word.\n",
    "    \"\"\"\n",
    "    for x in corpus:\n",
    "        x = ''.join(i for i in x if i not in punctuation)\n",
    "        terms = x.split()\n",
    "        for term in terms:\n",
    "            if not term in bag_of_words and not term in stop_words:\n",
    "                bag_of_words.append(term)\n",
    " \n",
    "    \n",
    "    \"\"\"\n",
    "    Loop `corpus` again. For each doc string, count the number of occurrences of each term in `bag_of_words`. \n",
    "    Create an array for each doc's term frequency and append it to `term_freq`.\n",
    "    \"\"\"\n",
    "    for x in corpus:\n",
    "        freq = []\n",
    "        terms = x.split()\n",
    "        for word in bag_of_words:\n",
    "            freq.append(terms.count(word))\n",
    "        term_freq.append(freq)\n",
    "    \n",
    "    \n",
    "    # Now return your output as an object\n",
    "    return {\n",
    "        \"bag_of_words\": bag_of_words,\n",
    "        \"term_freq\": term_freq\n",
    "    }\n",
    "    "
   ]
  },
  {
   "cell_type": "markdown",
   "metadata": {},
   "source": [
    "Test your function without stop words. You should see the output like below:\n",
    "\n",
    "```{'bag_of_words': ['ironhack', 'is', 'cool', 'i', 'love', 'am', 'a', 'student', 'at'], 'term_freq': [[1, 1, 1, 0, 0, 0, 0, 0, 0], [1, 0, 0, 1, 1, 0, 0, 0, 0], [1, 0, 0, 1, 0, 1, 1, 1, 1]]}```"
   ]
  },
  {
   "cell_type": "code",
   "execution_count": 2,
   "metadata": {},
   "outputs": [
    {
     "name": "stdout",
     "output_type": "stream",
     "text": [
      "{'bag_of_words': ['ironhack', 'is', 'cool', 'i', 'love', 'am', 'a', 'student', 'at'], 'term_freq': [[1, 1, 1, 0, 0, 0, 0, 0, 0], [1, 0, 0, 1, 1, 0, 0, 0, 0], [1, 0, 0, 1, 0, 1, 1, 1, 1]]}\n"
     ]
    }
   ],
   "source": [
    "# Define doc paths array\n",
    "\n",
    "docs = [os.path.join('/Users/Myrto.Setzi/lab-string-operations/your-code/', f) for f in os.listdir\n",
    "        ('/Users/Myrto.Setzi/lab-string-operations/your-code/') if f.endswith('.txt')]\n",
    "\n",
    "# Obtain BoW from your function\n",
    "bow = get_bow_from_docs(docs)\n",
    "\n",
    "# Print BoW\n",
    "print(bow)"
   ]
  },
  {
   "cell_type": "markdown",
   "metadata": {},
   "source": [
    "If your attempt above is successful, nice work done!\n",
    "\n",
    "Now test your function again with the stop words. In the previous lab we defined the stop words in a large array. In this lab, we'll import the stop words from Scikit-Learn."
   ]
  },
  {
   "cell_type": "code",
   "execution_count": 4,
   "metadata": {},
   "outputs": [
    {
     "name": "stdout",
     "output_type": "stream",
     "text": [
      "frozenset({'in', 'why', 'two', 'though', 'the', 'my', 'whatever', 'alone', 'again', 'take', 'interest', 'bill', 'amoungst', 'nothing', 'these', 'beforehand', 'find', 'thence', 'out', 'side', 'into', 'to', 'have', 'put', 'when', 'ourselves', 'itself', 'for', 'something', 'nobody', 'whereafter', 'her', 'but', 'detail', 'at', 'any', 'latter', 'until', 'next', 'which', 'behind', 'throughout', 'whenever', 'below', 'least', 'am', 'hereupon', 'where', 'thru', 'how', 'couldnt', 'themselves', 'from', 'made', 'across', 'fill', 're', 'other', 'or', 'than', 'there', 'five', 'could', 'front', 'although', 'con', 'us', 'here', 'part', 'almost', 'all', 'be', 'whence', 'no', 'fifteen', 'of', 'either', 'herein', 'on', 'per', 'always', 'him', 'it', 'seems', 'since', 'system', 'own', 'further', 'see', 'somewhere', 'neither', 'however', 'became', 'becomes', 'we', 'every', 'still', 'through', 'very', 'too', 'anyhow', 'down', 'others', 'ltd', 'beside', 'he', 'few', 'before', 'hence', 'me', 'de', 'formerly', 'hundred', 'moreover', 'rather', 'among', 'its', 'your', 'move', 'a', 'during', 'was', 'now', 'beyond', 'himself', 'thereby', 'whereas', 'amount', 'found', 'against', 'also', 'wherein', 'amongst', 'thereafter', 'together', 'top', 'whom', 'yours', 'an', 'never', 'thereupon', 'back', 'therein', 'ours', 'more', 'whoever', 'perhaps', 'latterly', 'towards', 'whereby', 'anything', 'much', 'indeed', 'ten', 'his', 'do', 'seem', 'fifty', 'some', 'whither', 'inc', 'they', 'between', 'about', 'only', 'sometime', 'under', 'while', 'after', 'sometimes', 'everything', 'over', 'sincere', 'eleven', 'up', 'less', 'both', 'our', 'must', 'empty', 'often', 'elsewhere', 'name', 'serious', 'somehow', 'thin', 'describe', 'yourselves', 'already', 'well', 'had', 'with', 'first', 'hereafter', 'those', 'bottom', 'four', 'three', 'noone', 'can', 'who', 'would', 'most', 'their', 'yourself', 'enough', 'whether', 'mine', 'cant', 'many', 'because', 'ie', 'please', 'along', 'once', 'another', 'forty', 'been', 'mill', 'show', 'this', 'whereupon', 'yet', 'so', 'someone', 'done', 'off', 'will', 'what', 'cannot', 'get', 'toward', 'cry', 'that', 'nor', 'by', 'myself', 'you', 'upon', 'without', 'anyone', 'were', 'besides', 'hereby', 'nine', 'nowhere', 'third', 'via', 'even', 'last', 'hers', 'several', 'twelve', 'becoming', 'as', 'co', 'full', 'i', 'give', 'keep', 'eg', 'go', 'same', 'therefore', 'sixty', 'hasnt', 'except', 'should', 'seeming', 'whose', 'twenty', 'everywhere', 'six', 'become', 'call', 'has', 'may', 'un', 'above', 'is', 'within', 'eight', 'each', 'former', 'and', 'anywhere', 'namely', 'she', 'such', 'otherwise', 'thus', 'nevertheless', 'meanwhile', 'onto', 'being', 'if', 'might', 'mostly', 'around', 'herself', 'not', 'are', 'ever', 'none', 'everyone', 'one', 'then', 'else', 'etc', 'whole', 'seemed', 'afterwards', 'thick', 'fire', 'anyway', 'them', 'due', 'wherever'})\n"
     ]
    }
   ],
   "source": [
    "from sklearn.feature_extraction import stop_words\n",
    "print(stop_words.ENGLISH_STOP_WORDS)"
   ]
  },
  {
   "cell_type": "markdown",
   "metadata": {},
   "source": [
    "You should have seen a large list of words that looks like:\n",
    "\n",
    "```frozenset({'across', 'mine', 'cannot', ...})```\n",
    "\n",
    "`frozenset` is a type of Python object that is immutable. In this lab you can use it just like an array without conversion."
   ]
  },
  {
   "cell_type": "markdown",
   "metadata": {},
   "source": [
    "Next, test your function with supplying `stop_words.ENGLISH_STOP_WORDS` as the second parameter."
   ]
  },
  {
   "cell_type": "code",
   "execution_count": 5,
   "metadata": {},
   "outputs": [
    {
     "name": "stdout",
     "output_type": "stream",
     "text": [
      "{'bag_of_words': ['ironhack', 'cool', 'love', 'student'], 'term_freq': [[1, 1, 0, 0], [1, 0, 1, 0], [1, 0, 0, 1]]}\n"
     ]
    }
   ],
   "source": [
    "bow = get_bow_from_docs(docs, stop_words.ENGLISH_STOP_WORDS)\n",
    "\n",
    "print(bow)"
   ]
  },
  {
   "cell_type": "markdown",
   "metadata": {},
   "source": [
    "You should have seen:\n",
    "\n",
    "```{'bag_of_words': ['ironhack', 'cool', 'love', 'student'], 'term_freq': [[1, 1, 0, 0], [1, 0, 1, 0], [1, 0, 0, 1]]}```"
   ]
  },
  {
   "cell_type": "code",
   "execution_count": null,
   "metadata": {
    "collapsed": true
   },
   "outputs": [],
   "source": []
  }
 ],
 "metadata": {
  "kernelspec": {
   "display_name": "Python 3",
   "language": "python",
   "name": "python3"
  },
  "language_info": {
   "codemirror_mode": {
    "name": "ipython",
    "version": 3
   },
   "file_extension": ".py",
   "mimetype": "text/x-python",
   "name": "python",
   "nbconvert_exporter": "python",
   "pygments_lexer": "ipython3",
   "version": "3.6.3"
  }
 },
 "nbformat": 4,
 "nbformat_minor": 2
}
